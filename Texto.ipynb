{
 "cells": [
  {
   "cell_type": "code",
   "execution_count": 404,
   "id": "greek-bryan",
   "metadata": {},
   "outputs": [
    {
     "name": "stderr",
     "output_type": "stream",
     "text": [
      "[nltk_data] Downloading package punkt to\n",
      "[nltk_data]     C:\\Users\\Administrador\\AppData\\Roaming\\nltk_data...\n",
      "[nltk_data]   Package punkt is already up-to-date!\n",
      "[nltk_data] Downloading package wordnet to\n",
      "[nltk_data]     C:\\Users\\Administrador\\AppData\\Roaming\\nltk_data...\n",
      "[nltk_data]   Package wordnet is already up-to-date!\n",
      "[nltk_data] Downloading package stopwords to\n",
      "[nltk_data]     C:\\Users\\Administrador\\AppData\\Roaming\\nltk_data...\n",
      "[nltk_data]   Package stopwords is already up-to-date!\n"
     ]
    }
   ],
   "source": [
    "import nltk\n",
    "from nltk.tokenize import word_tokenize\n",
    "from nltk.stem import WordNetLemmatizer, PorterStemmer\n",
    "from nltk.corpus import stopwords\n",
    "from sklearn.datasets import fetch_20newsgroups\n",
    "from sklearn.feature_extraction.text import CountVectorizer, TfidfVectorizer\n",
    "import pickle\n",
    "import seaborn as sb\n",
    "import numpy as np\n",
    "import matplotlib.pyplot as plt\n",
    "\n",
    "nltk.download('punkt')\n",
    "nltk.download('wordnet')\n",
    "nltk.download('stopwords')\n",
    "twenty_train = fetch_20newsgroups(subset='train', shuffle=True, remove=('headers', 'footers'))"
   ]
  },
  {
   "cell_type": "code",
   "execution_count": 405,
   "id": "falling-mouth",
   "metadata": {},
   "outputs": [
    {
     "data": {
      "text/plain": [
       "sklearn.utils.Bunch"
      ]
     },
     "execution_count": 405,
     "metadata": {},
     "output_type": "execute_result"
    }
   ],
   "source": [
    "type(twenty_train)"
   ]
  },
  {
   "cell_type": "code",
   "execution_count": 406,
   "id": "miniature-table",
   "metadata": {},
   "outputs": [
    {
     "name": "stdout",
     "output_type": "stream",
     "text": [
      "dict_keys(['data', 'filenames', 'target_names', 'target', 'DESCR'])\n",
      "Cantidad de clases:  20\n"
     ]
    }
   ],
   "source": [
    "print(twenty_train.keys())\n",
    "print(\"Cantidad de clases: \",len(twenty_train.target_names))"
   ]
  },
  {
   "cell_type": "markdown",
   "id": "weighted-reply",
   "metadata": {},
   "source": [
    "De estos tipos de datos me van a interesar data pq contiene el texto que quiero clasificar y target/target_names que son las clases en las que quiero clasificar los textos"
   ]
  },
  {
   "cell_type": "code",
   "execution_count": 407,
   "id": "broadband-reply",
   "metadata": {},
   "outputs": [
    {
     "name": "stdout",
     "output_type": "stream",
     "text": [
      "Dataset length: 11314\n"
     ]
    }
   ],
   "source": [
    "data_len = len(twenty_train['data'])\n",
    "print('Dataset length:',data_len)"
   ]
  },
  {
   "cell_type": "markdown",
   "id": "animal-stuff",
   "metadata": {},
   "source": [
    "Guarde el largo de mi dataset"
   ]
  },
  {
   "cell_type": "code",
   "execution_count": 408,
   "id": "laughing-russia",
   "metadata": {},
   "outputs": [
    {
     "data": {
      "text/plain": [
       "['I was wondering if anyone out there could enlighten me on this car I saw',\n",
       " 'the other day. It was a 2-door sports car, looked to be from the late 60s/',\n",
       " 'early 70s. It was called a Bricklin. The doors were really small. In addition,',\n",
       " 'the front bumper was separate from the rest of the body. This is ',\n",
       " 'all I know. If anyone can tellme a model name, engine specs, years',\n",
       " 'of production, where this car is made, history, or whatever info you',\n",
       " 'have on this funky looking car, please e-mail.']"
      ]
     },
     "execution_count": 408,
     "metadata": {},
     "output_type": "execute_result"
    }
   ],
   "source": [
    "twenty_train['data'][0].split('\\n')"
   ]
  },
  {
   "cell_type": "markdown",
   "id": "christian-viewer",
   "metadata": {},
   "source": [
    "Una vez con una idea de los datos podemos empezar a procesar los datos."
   ]
  },
  {
   "cell_type": "markdown",
   "id": "numerical-swedish",
   "metadata": {},
   "source": [
    "Vamos a separar estos textos en palabras individuales (tokenizar), lematizar, quitar las palabras que sean muy repetitivas del idioma y reemplazar algunas palabras por su raiz"
   ]
  },
  {
   "cell_type": "code",
   "execution_count": 432,
   "id": "functioning-criticism",
   "metadata": {},
   "outputs": [],
   "source": [
    "def treat_data(data, lemm=True, stem=True, stop=True):\n",
    "    lem = WordNetLemmatizer()\n",
    "    stemm = PorterStemmer()\n",
    "    stop_words = stopwords.words('english')\n",
    "    p_data = [word_tokenize(x) for x in data]\n",
    "    print(\"Tokenize ready\")\n",
    "    \n",
    "    if lemm:\n",
    "        p_data = [[lem.lemmatize(y) for y in x ] for x in p_data]\n",
    "        print(\"Lammatize ready\")\n",
    "    if stop:\n",
    "        p_data = [[x for x in y if x not in stop_words] for y in p_data]\n",
    "        print(\"Stop remove ready\")\n",
    "    if stem:\n",
    "        p_data = [[stemm.stem(x) for x in y] for y in p_data]\n",
    "        print(\"Stemmed ready\")\n",
    "    \n",
    "    p_data = [[x for x in y if x.isalpha()] for y in p_data]\n",
    "    print(\"Finished\")\n",
    "    return [' '.join(x) for x in p_data]"
   ]
  },
  {
   "cell_type": "code",
   "execution_count": 34,
   "id": "muslim-lawrence",
   "metadata": {
    "jupyter": {
     "source_hidden": true
    }
   },
   "outputs": [],
   "source": [
    "f = open('Cache/tokenized.pkl', 'wb')\n",
    "pickle.dump(tokenized, f)\n",
    "f.close()\n",
    "\n",
    "f = open('Cache/lemmatized.pkl', 'wb')\n",
    "pickle.dump(lemmatized, f)\n",
    "f.close()   \n",
    "\n",
    "f = open('Cache/stopped.pkl', 'wb')\n",
    "pickle.dump(stopped, f)\n",
    "f.close()   \n",
    "\n",
    "f = open('Cache/stemmed.pkl', 'wb')\n",
    "pickle.dump(stemmed, f)\n",
    "f.close()   \n",
    "\n",
    "f = open('Cache/only_alpha.pkl', 'wb')\n",
    "pickle.dump(only_alpha, f)\n",
    "f.close()   "
   ]
  },
  {
   "cell_type": "code",
   "execution_count": 36,
   "id": "painted-gossip",
   "metadata": {
    "jupyter": {
     "source_hidden": true
    }
   },
   "outputs": [],
   "source": [
    "f = open('Cache/tokenized.pkl', 'rb')\n",
    "tokenized = pickle.load(f)\n",
    "f.close()\n",
    "\n",
    "f = open('Cache/lemmatized.pkl', 'rb')\n",
    "lemmatized = pickle.load(f)\n",
    "f.close()   \n",
    "\n",
    "f = open('Cache/stopped.pkl', 'rb')\n",
    "stopped = pickle.load(f)\n",
    "f.close()   \n",
    "\n",
    "f = open('Cache/stemmed.pkl', 'rb')\n",
    "stemmed = pickle.load(f)\n",
    "f.close()   \n",
    "\n",
    "f = open('Cache/only_alpha.pkl', 'rb')\n",
    "only_alpha = pickle.load(f)\n",
    "f.close()   "
   ]
  },
  {
   "cell_type": "code",
   "execution_count": 433,
   "id": "drawn-encyclopedia",
   "metadata": {},
   "outputs": [
    {
     "name": "stdout",
     "output_type": "stream",
     "text": [
      "Tokenize ready\n",
      "Lammatize ready\n",
      "Stop remove ready\n",
      "Stemmed ready\n",
      "Finished\n"
     ]
    }
   ],
   "source": [
    "procesado = treat_data(twenty_train['data'])\n",
    "len(procesado)"
   ]
  },
  {
   "cell_type": "code",
   "execution_count": 436,
   "id": "homeless-simple",
   "metadata": {},
   "outputs": [],
   "source": [
    "#instancio un count vectorizer para pasar los strings a vectores\n",
    "vector = CountVectorizer()\n",
    "# Armo el vocabulario\n",
    "vector.fit(procesado)\n",
    "# Paso el volcabulario a matriz y cuenta la cantidad de veces que aparecen port articulo\n",
    "X_train = vector.transform(procesado)"
   ]
  },
  {
   "cell_type": "markdown",
   "id": "tight-basis",
   "metadata": {},
   "source": [
    "Ahora voy a hacer un analisis de cuanto aparecen las palabras para determinar posibles valores para max_df y min_df "
   ]
  },
  {
   "cell_type": "code",
   "execution_count": 452,
   "id": "through-tunnel",
   "metadata": {},
   "outputs": [
    {
     "data": {
      "text/plain": [
       "[]"
      ]
     },
     "execution_count": 452,
     "metadata": {},
     "output_type": "execute_result"
    },
    {
     "data": {
      "image/png": "[encoded data removed]",
      "text/plain": [
       "<Figure size 1008x504 with 2 Axes>"
      ]
     },
     "metadata": {
      "needs_background": "light"
     },
     "output_type": "display_data"
    }
   ],
   "source": [
    "# Me fijo el document frequency\n",
    "times = np.array([x.count_nonzero() for x in X_train])\n",
    "times_r = times/X_train.shape[0]\n",
    "\n",
    "fig, axs = plt.subplots(1, 2, figsize=(14, 7))\n",
    "\n",
    "axs[0].hist(times, bins=100, range=[0,1000]) #creamos el gráfico en Seaborn\n",
    "axs[1].hist(times_r, bins=100) #creamos el gráfico en Seaborn\n",
    "plt.ylabel(\"# Palabras\")\n",
    "plt.plot()"
   ]
  },
  {
   "cell_type": "code",
   "execution_count": 453,
   "id": "thick-twenty",
   "metadata": {},
   "outputs": [
    {
     "data": {
      "text/plain": [
       "48681"
      ]
     },
     "execution_count": 453,
     "metadata": {},
     "output_type": "execute_result"
    }
   ],
   "source": [
    "len(vector.vocabulary_)"
   ]
  },
  {
   "cell_type": "markdown",
   "id": "lasting-crest",
   "metadata": {},
   "source": [
    "De los graficos se puede observar que son pocas las palabras que se enucentran en más de 5% de los textos analizados\n",
    "Y a su vez hay una gran cantidad de palabras en pocos articulos"
   ]
  },
  {
   "cell_type": "code",
   "execution_count": 455,
   "id": "continued-furniture",
   "metadata": {},
   "outputs": [
    {
     "name": "stdout",
     "output_type": "stream",
     "text": [
      "12722\n"
     ]
    }
   ],
   "source": [
    "#instancio un count vectorizer para pasar los strings a vectores\n",
    "vector_2 = CountVectorizer(max_df=0.1, min_df=5)\n",
    "# Armo el vocabulario\n",
    "vector_2.fit(procesado)\n",
    "# Paso el volcabulario a matriz y cuenta la cantidad de veces que aparecen port articulo\n",
    "X_train_2 = vector_2.transform(procesado)\n",
    "print(len(vector_2.vocabulary_))"
   ]
  },
  {
   "cell_type": "markdown",
   "id": "alleged-cowboy",
   "metadata": {},
   "source": [
    "# Smothing Laplaciano\n",
    "\n",
    "Si el vocabulario es muy extensio, las palabras pueden no aparecer nunca y despues cuando vaya a calsificar algo que no vi eso me va a tirar P($w_5$|y=k) = 0\n",
    "\n",
    "Voy a agregar en cada clase un articulo que todas las palabras aparezcan $\\alpha$ veces para que para ninguna clase esa probabilidad me de 0 \n"
   ]
  },
  {
   "cell_type": "code",
   "execution_count": 456,
   "id": "smart-action",
   "metadata": {},
   "outputs": [
    {
     "name": "stdout",
     "output_type": "stream",
     "text": [
      "0.0530316422131872\n"
     ]
    }
   ],
   "source": [
    "datos = X_train_2.shape[0]\n",
    "clases = []\n",
    "for i in range(20):\n",
    "    mask = twenty_train.target == i\n",
    "    clases.append(mask.sum()/datos)\n",
    "print(max(clases))"
   ]
  },
  {
   "cell_type": "markdown",
   "id": "conscious-elevation",
   "metadata": {},
   "source": [
    "Armo una funcion para entrenar y otra para testear el modelo\n",
    "Para el entrenamineto calculo las log_probabilidades condicionales de cada palabra sabiendo en que tipo de articulo estoy trabajando, esto facilita luego los calculos ya que pueden hacerse como producto de matrices"
   ]
  },
  {
   "cell_type": "code",
   "execution_count": 460,
   "id": "smaller-warehouse",
   "metadata": {},
   "outputs": [],
   "source": [
    "def train(x_train, y_train, alpha=0):\n",
    "    dl = y_train.shape[0]\n",
    "    lprob, llike = [], []\n",
    "    for i in range(20):\n",
    "        mask = y_train == i\n",
    "        ocurr = x_train[mask, :].sum(axis=0)+alpha\n",
    "        total = ocurr.sum(axis=1).A[0][0]\n",
    "        llike.append(np.log(ocurr/total).A[0])\n",
    "        lprob.append(np.log(mask.sum()/datos))\n",
    "    return np.array(llike), np.array(lprob)"
   ]
  },
  {
   "cell_type": "code",
   "execution_count": 466,
   "id": "anticipated-activity",
   "metadata": {},
   "outputs": [],
   "source": [
    "def test(log_l, log_p, x_test, y_test):\n",
    "    corrects = 0\n",
    "    loglike = log_l.transpose()\n",
    "    for i in range(x_test.shape[0]):\n",
    "        res = x_test[i]*loglike + log_p\n",
    "        if res.argmax()==y_test[i]:\n",
    "            corrects += 1\n",
    "    return corrects/x_test.shape[0]"
   ]
  },
  {
   "cell_type": "code",
   "execution_count": 461,
   "id": "gothic-alaska",
   "metadata": {},
   "outputs": [],
   "source": [
    "# deberia hacer un for para entrenar variando el alpha y quedarme con el mejor\n",
    "# tengo que separar el arreglo de train en train y validacion\n",
    "a = 1\n",
    "log_like, log_prob = train(X_train_2, twenty_train.target, a)"
   ]
  },
  {
   "cell_type": "code",
   "execution_count": 467,
   "id": "lasting-progressive",
   "metadata": {},
   "outputs": [],
   "source": [
    "# \"testeo\" con el arreglo de train, pero no me da nada relevante ya que son datos conocidos para el modelo\n",
    "# solo para verificar que a priori no este todo mal\n",
    "aux = test(log_like, log_prob, X_train_2, twenty_train.target)\n",
    "print(\"Accuracy:\", aux)"
   ]
  },
  {
   "cell_type": "code",
   "execution_count": 418,
   "id": "metropolitan-theology",
   "metadata": {},
   "outputs": [],
   "source": [
    "voc_len = len(vector_2.vocabulary_)\n",
    "datos = X_train_2.shape[0]\n",
    "alpha_sl = 1\n",
    "log_prob, log_like = [],[]\n",
    "for i in range(20):\n",
    "    mask = twenty_train.target == i\n",
    "    ocurrencias = X_train_2[mask,:].sum(axis=0)+alpha_sl\n",
    "    total = ocurrencias.sum(axis=1).A[0][0]\n",
    "    log_like.append(np.log(ocurrencias/total).A[0])\n",
    "    log_prob.append(np.log(mask.sum()/datos))\n",
    "    \n",
    "\n",
    "log_like = np.array(log_like)\n",
    "log_prob = np.array(log_prob)"
   ]
  },
  {
   "cell_type": "code",
   "execution_count": 469,
   "id": "sustainable-dover",
   "metadata": {},
   "outputs": [
    {
     "name": "stdout",
     "output_type": "stream",
     "text": [
      "Wall time: 9.68 s\n"
     ]
    },
    {
     "data": {
      "text/plain": [
       "0.8898709563372812"
      ]
     },
     "execution_count": 469,
     "metadata": {},
     "output_type": "execute_result"
    }
   ],
   "source": [
    "%%time\n",
    "score = 0\n",
    "l = log_like.transpose()\n",
    "for j in range(X_train_2.shape[0]):\n",
    "    res = X_train_2[j]*l+log_prob\n",
    "    if res.argmax()==twenty_train['target'][j]:\n",
    "        score += 1\n",
    "score/X_train_2.shape[0]"
   ]
  },
  {
   "cell_type": "code",
   "execution_count": 420,
   "id": "humanitarian-shipping",
   "metadata": {},
   "outputs": [],
   "source": [
    "twenty_test = fetch_20newsgroups(subset='test', shuffle=True, remove=('headers', 'footers'))"
   ]
  },
  {
   "cell_type": "code",
   "execution_count": 470,
   "id": "vital-wrapping",
   "metadata": {},
   "outputs": [
    {
     "name": "stdout",
     "output_type": "stream",
     "text": [
      "Tokenize ready\n",
      "Lammatize ready\n",
      "Stop remove ready\n",
      "Stemmed ready\n",
      "Finished\n"
     ]
    }
   ],
   "source": [
    "test_data = treat_data(twenty_test['data'])"
   ]
  },
  {
   "cell_type": "code",
   "execution_count": 471,
   "id": "cooperative-enzyme",
   "metadata": {},
   "outputs": [
    {
     "data": {
      "text/plain": [
       "7532"
      ]
     },
     "execution_count": 471,
     "metadata": {},
     "output_type": "execute_result"
    }
   ],
   "source": [
    "len(test_data)"
   ]
  },
  {
   "cell_type": "code",
   "execution_count": 423,
   "id": "related-victor",
   "metadata": {},
   "outputs": [],
   "source": [
    "X_test = vector_2.transform(test_data)"
   ]
  },
  {
   "cell_type": "code",
   "execution_count": 424,
   "id": "confirmed-maldives",
   "metadata": {},
   "outputs": [
    {
     "name": "stdout",
     "output_type": "stream",
     "text": [
      "Accuracy:  0.7444237918215614\n",
      "Wall time: 28.6 s\n"
     ]
    }
   ],
   "source": [
    "%%time\n",
    "score = 0\n",
    "l = log_like.transpose()\n",
    "for j in range(X_test.shape[0]):\n",
    "    res = X_test[j]*l+log_prob\n",
    "    if res.argmax()==twenty_test['target'][j]:\n",
    "        score += 1\n",
    "        \n",
    "print(\"Accuracy: \", score/X_test.shape[0])"
   ]
  },
  {
   "cell_type": "code",
   "execution_count": null,
   "id": "curious-skating",
   "metadata": {},
   "outputs": [],
   "source": []
  }
 ],
 "metadata": {
  "kernelspec": {
   "display_name": "Python 3",
   "language": "python",
   "name": "python3"
  },
  "language_info": {
   "codemirror_mode": {
    "name": "ipython",
    "version": 3
   },
   "file_extension": ".py",
   "mimetype": "text/x-python",
   "name": "python",
   "nbconvert_exporter": "python",
   "pygments_lexer": "ipython3",
   "version": "3.8.8"
  }
 },
 "nbformat": 4,
 "nbformat_minor": 5
}
