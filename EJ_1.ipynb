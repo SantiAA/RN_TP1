{
 "cells": [
  {
   "cell_type": "code",
   "execution_count": 1,
   "id": "third-pharmacy",
   "metadata": {},
   "outputs": [
    {
     "name": "stderr",
     "output_type": "stream",
     "text": [
      "[nltk_data] Downloading package punkt to\n",
      "[nltk_data]     C:\\Users\\Administrador\\AppData\\Roaming\\nltk_data...\n",
      "[nltk_data]   Package punkt is already up-to-date!\n",
      "[nltk_data] Downloading package wordnet to\n",
      "[nltk_data]     C:\\Users\\Administrador\\AppData\\Roaming\\nltk_data...\n",
      "[nltk_data]   Package wordnet is already up-to-date!\n",
      "[nltk_data] Downloading package stopwords to\n",
      "[nltk_data]     C:\\Users\\Administrador\\AppData\\Roaming\\nltk_data...\n",
      "[nltk_data]   Package stopwords is already up-to-date!\n"
     ]
    }
   ],
   "source": [
    "import nltk\n",
    "import pickle\n",
    "import seaborn as sb\n",
    "import numpy as np\n",
    "import matplotlib.pyplot as plt\n",
    "from nltk.tokenize import word_tokenize\n",
    "from nltk.stem import WordNetLemmatizer, PorterStemmer\n",
    "from nltk.corpus import stopwords\n",
    "from sklearn.datasets import fetch_20newsgroups\n",
    "from sklearn.model_selection import train_test_split\n",
    "from sklearn.feature_extraction.text import CountVectorizer, TfidfVectorizer\n",
    "\n",
    "nltk.download('punkt')\n",
    "nltk.download('wordnet')\n",
    "nltk.download('stopwords')\n",
    "twenty_train = fetch_20newsgroups(subset='train', shuffle=True, remove=('headers', 'footers'))\n",
    "twenty_test  = fetch_20newsgroups(subset='test' , shuffle=True, remove=('headers', 'footers'))"
   ]
  },
  {
   "cell_type": "markdown",
   "id": "spread-steal",
   "metadata": {},
   "source": [
    "## Revision de los datos"
   ]
  },
  {
   "cell_type": "code",
   "execution_count": 2,
   "id": "daily-tuning",
   "metadata": {},
   "outputs": [
    {
     "name": "stdout",
     "output_type": "stream",
     "text": [
      "dict_keys(['data', 'filenames', 'target_names', 'target', 'DESCR'])\n",
      "Cantidad de clases:  20\n"
     ]
    }
   ],
   "source": [
    "print(twenty_train.keys())\n",
    "print(\"Cantidad de clases: \",len(twenty_train.target_names))"
   ]
  },
  {
   "cell_type": "markdown",
   "id": "leading-argentina",
   "metadata": {},
   "source": [
    "De estos tipos de datos me van a interesar data pq contiene el texto que quiero clasificar y target/target_names que son las clases en las que quiero clasificar los textos"
   ]
  },
  {
   "cell_type": "code",
   "execution_count": 3,
   "id": "wireless-karen",
   "metadata": {},
   "outputs": [
    {
     "name": "stdout",
     "output_type": "stream",
     "text": [
      "Dataset length: 11314\n"
     ]
    }
   ],
   "source": [
    "data_len = len(twenty_train['data'])\n",
    "print('Dataset length:',data_len)"
   ]
  },
  {
   "cell_type": "markdown",
   "id": "developmental-productivity",
   "metadata": {},
   "source": [
    "Guarde el largo de mi dataset"
   ]
  },
  {
   "cell_type": "code",
   "execution_count": 4,
   "id": "limited-genre",
   "metadata": {},
   "outputs": [
    {
     "data": {
      "text/plain": [
       "['I was wondering if anyone out there could enlighten me on this car I saw',\n",
       " 'the other day. It was a 2-door sports car, looked to be from the late 60s/',\n",
       " 'early 70s. It was called a Bricklin. The doors were really small. In addition,',\n",
       " 'the front bumper was separate from the rest of the body. This is ',\n",
       " 'all I know. If anyone can tellme a model name, engine specs, years',\n",
       " 'of production, where this car is made, history, or whatever info you',\n",
       " 'have on this funky looking car, please e-mail.']"
      ]
     },
     "execution_count": 4,
     "metadata": {},
     "output_type": "execute_result"
    }
   ],
   "source": [
    "twenty_train['data'][0].split('\\n')"
   ]
  },
  {
   "cell_type": "code",
   "execution_count": 5,
   "id": "humanitarian-commander",
   "metadata": {},
   "outputs": [
    {
     "name": "stdout",
     "output_type": "stream",
     "text": [
      "Clase 0: 4.2425%\n",
      "Clase 1: 5.1617%\n",
      "Clase 2: 5.2236%\n",
      "Clase 3: 5.2148%\n",
      "Clase 4: 5.1087%\n",
      "Clase 5: 5.2413%\n",
      "Clase 6: 5.1706%\n",
      "Clase 7: 5.2501%\n",
      "Clase 8: 5.2855%\n",
      "Clase 9: 5.2766%\n",
      "Clase 10: 5.3032%\n",
      "Clase 11: 5.2590%\n",
      "Clase 12: 5.2236%\n",
      "Clase 13: 5.2501%\n",
      "Clase 14: 5.2413%\n",
      "Clase 15: 5.2943%\n",
      "Clase 16: 4.8259%\n",
      "Clase 17: 4.9850%\n",
      "Clase 18: 4.1100%\n",
      "Clase 19: 3.3322%\n"
     ]
    }
   ],
   "source": [
    "# Podemos observar la proporcion de clases\n",
    "for i in range(20):\n",
    "    mask = twenty_train.target == i\n",
    "    print(\"Clase {}: {:.4f}%\".format(i , mask.sum()/data_len*100))"
   ]
  },
  {
   "cell_type": "markdown",
   "id": "comparable-appendix",
   "metadata": {},
   "source": [
    "Como se puede observar las clases tienen una distribucion aproximadamente uniforme, por lo tanto el accuracy es una buena metrica para evaluar el modelo de prediccion"
   ]
  },
  {
   "cell_type": "markdown",
   "id": "likely-bleeding",
   "metadata": {},
   "source": [
    "Una vez con una idea de los datos podemos empezar a procesar los datos."
   ]
  },
  {
   "cell_type": "markdown",
   "id": "sticky-bulgaria",
   "metadata": {},
   "source": [
    "## Procesamiento de los datos"
   ]
  },
  {
   "cell_type": "markdown",
   "id": "proprietary-revision",
   "metadata": {},
   "source": [
    "Vamos a separar estos textos en palabras individuales (tokenizar), lematizar, quitar las palabras que sean muy repetitivas del idioma y reemplazar algunas palabras por su raiz\n",
    "Para esto armamos una funcion la cual perimite elegir cual de los tratamientos aplicar a un determinado set de datos de entrada\n",
    "\n",
    "La lemmatización permite colapsar todas las instancias de una palabra con variaciones en su inflección o modo de uso en un mismo token, reduciendo el conjunto de palabras final y detectando mejor el uso de una misma palabra. En este caso no utilizamos un algoritmo para detectar si palabras con multiples tipos (sustantivo, adjetivo, verbo, adverbio) estan siendo usadas como uno u otro tipo, por lo cual WordNet presume que son sustantivos.\n",
    "\n",
    "Stemming colapsa aún más las instancias de una palabra llevandolas a la raiz de la misma, usualmente resultando en la aproximación a un concepto base. Por ejemplo, se remueven prefijos, sufijos, etc. La lemmatización previa funciona como un stemming más complejo, y el stemmer utilizado termina de reducir las palabras a su forma más simple."
   ]
  },
  {
   "cell_type": "code",
   "execution_count": 6,
   "id": "intermediate-lying",
   "metadata": {},
   "outputs": [],
   "source": [
    "def treat_data(data, lemm=True, stem=True, stop=True):\n",
    "    lem = WordNetLemmatizer()\n",
    "    stemm = PorterStemmer()\n",
    "    stop_words = stopwords.words('english')\n",
    "    p_data = [word_tokenize(x) for x in data]\n",
    "    print(\"Tokenize ready\")\n",
    "    \n",
    "    if lemm:\n",
    "        p_data = [[lem.lemmatize(y) for y in x ] for x in p_data]\n",
    "        print(\"Lammatize ready\")\n",
    "    if stop:\n",
    "        p_data = [[x for x in y if x not in stop_words] for y in p_data]\n",
    "        print(\"Stop remove ready\")\n",
    "    if stem:\n",
    "        p_data = [[stemm.stem(x) for x in y] for y in p_data]\n",
    "        print(\"Stemmed ready\")\n",
    "    \n",
    "    p_data = [[x for x in y if x.isalpha()] for y in p_data]\n",
    "    print(\"Finished\")\n",
    "    return [' '.join(x) for x in p_data]"
   ]
  },
  {
   "cell_type": "code",
   "execution_count": 7,
   "id": "overall-bosnia",
   "metadata": {},
   "outputs": [],
   "source": [
    "# Cache functions\n",
    "def save_data(filename, array):\n",
    "    f = open(filename, 'wb')\n",
    "    pickle.dump(array, f)\n",
    "    f.close()\n",
    "\n",
    "def get_data(filename):\n",
    "    f = open(filename, 'rb')\n",
    "    ret = pickle.load(f)\n",
    "    f.close()\n",
    "    return ret"
   ]
  },
  {
   "cell_type": "markdown",
   "id": "terminal-number",
   "metadata": {},
   "source": [
    "Procesamos los datos de train aplicando tokenizacion, lematizacion, stemmer, y sacando las palabras tipicas del lenguaje"
   ]
  },
  {
   "cell_type": "code",
   "execution_count": 8,
   "id": "spanish-railway",
   "metadata": {},
   "outputs": [
    {
     "name": "stdout",
     "output_type": "stream",
     "text": [
      "Tokenize ready\n",
      "Lammatize ready\n",
      "Stop remove ready\n",
      "Stemmed ready\n",
      "Finished\n"
     ]
    }
   ],
   "source": [
    "procesado = treat_data(twenty_train['data'])\n",
    "save_data('Cache/procesado_1.pkl', procesado)"
   ]
  },
  {
   "cell_type": "markdown",
   "id": "surface-valve",
   "metadata": {},
   "source": [
    "Para continuar con el analisis de los datos vamos a realizar un análisis del document frequency de las palabras, esto sera de utilidad para definir rangos posibles para los valores de max_df y min_df a la hora de armar el vocabulario del modelo."
   ]
  },
  {
   "cell_type": "code",
   "execution_count": 9,
   "id": "proper-austria",
   "metadata": {},
   "outputs": [],
   "source": [
    "def vectorizer(data, cv, M_df = 1.0, m_df = 1):\n",
    "    #instancio un count vectorizer para pasar los strings a vectores\n",
    "    vector = cv(max_df=M_df, min_df=m_df)\n",
    "    # Armo el vocabulario\n",
    "    vector.fit(data)\n",
    "    print(\"El largo del vocabulario es:\", len(vector.vocabulary_))\n",
    "    return vector, vector.transform(data)"
   ]
  },
  {
   "cell_type": "code",
   "execution_count": 10,
   "id": "preceding-appearance",
   "metadata": {},
   "outputs": [
    {
     "name": "stdout",
     "output_type": "stream",
     "text": [
      "El largo del vocabulario es: 48681\n"
     ]
    }
   ],
   "source": [
    "matriz, X_train = vectorizer(procesado, CountVectorizer)"
   ]
  },
  {
   "cell_type": "code",
   "execution_count": 11,
   "id": "auburn-stanford",
   "metadata": {},
   "outputs": [],
   "source": [
    "def get_df(sparse_matrix):\n",
    "    times = np.array([x.count_nonzero() for x in sparse_matrix.transpose()])\n",
    "    times_r = times/sparse_matrix.shape[0]\n",
    "    return times, times_r\n",
    "\n",
    "def plot_docfreq(absolute, relative, max_a=100, max_r=0.8):\n",
    "    fig, axs = plt.subplots(1, 2, figsize=(14, 7))\n",
    "    print(\"Max document frequency: {}\\nMin appearances: {}\".format(max(relative), min(absolute)))\n",
    "    axs[0].hist(absolute, bins=20, range=[0, max_a]) #creamos el gráfico en Seaborn\n",
    "    axs[1].hist(relative, bins=20, range=[0, max_r]) #creamos el gráfico en Seaborn\n",
    "    plt.ylabel(\"# Palabras\")\n",
    "    plt.plot()"
   ]
  },
  {
   "cell_type": "code",
   "execution_count": 12,
   "id": "following-finger",
   "metadata": {},
   "outputs": [],
   "source": [
    "test_t, test_tr = get_df(X_train)"
   ]
  },
  {
   "cell_type": "code",
   "execution_count": 13,
   "id": "reserved-reflection",
   "metadata": {},
   "outputs": [
    {
     "name": "stdout",
     "output_type": "stream",
     "text": [
      "Max document frequency: 0.5349124977903482\n",
      "Min appearances: 1\n"
     ]
    },
    {
     "data": {
      "image/png": "[encoded data removed]",
      "text/plain": [
       "<Figure size 1008x504 with 2 Axes>"
      ]
     },
     "metadata": {
      "needs_background": "light"
     },
     "output_type": "display_data"
    }
   ],
   "source": [
    "plot_docfreq(test_t, test_tr, 20, 0.01)"
   ]
  },
  {
   "cell_type": "code",
   "execution_count": 14,
   "id": "comic-spouse",
   "metadata": {},
   "outputs": [
    {
     "data": {
      "text/plain": [
       "'I wa wonder anyon could enlighten car I saw day It wa sport car look late earli It wa call bricklin the door realli small In addit front bumper wa separ rest bodi thi I know If anyon tellm model name engin spec year product car made histori whatev info funki look car pleas'"
      ]
     },
     "execution_count": 14,
     "metadata": {},
     "output_type": "execute_result"
    }
   ],
   "source": [
    "procesado[0]"
   ]
  },
  {
   "cell_type": "code",
   "execution_count": 15,
   "id": "vanilla-startup",
   "metadata": {},
   "outputs": [
    {
     "data": {
      "text/plain": [
       "3.1757769971857606"
      ]
     },
     "execution_count": 15,
     "metadata": {},
     "output_type": "execute_result"
    }
   ],
   "source": [
    "(test_tr > 0.01).sum()/len(test_tr)*100"
   ]
  },
  {
   "cell_type": "markdown",
   "id": "transparent-thunder",
   "metadata": {},
   "source": [
    "Se puede observar que menos hay pocas palabras que aparezcan en más del 1% de los articulos, con lo cual se puede tener una pauta de en torno a que valores variar el max_df, y ademas se puede apreicar que la gran mayoria de palabras aparecen en pocos articulos (1 o 2) por lo tanto tambien es posible inferir valores para el min_df"
   ]
  },
  {
   "cell_type": "code",
   "execution_count": 16,
   "id": "printable-synthetic",
   "metadata": {},
   "outputs": [
    {
     "name": "stdout",
     "output_type": "stream",
     "text": [
      "23867\n"
     ]
    }
   ],
   "source": [
    "#instancio un count vectorizer para pasar los strings a vectores\n",
    "vector_2 = CountVectorizer(max_df=0.01, min_df=2)\n",
    "# Armo el vocabulario\n",
    "vector_2.fit(procesado)\n",
    "# Paso el volcabulario a matriz y cuenta la cantidad de veces que aparecen port articulo\n",
    "X_train_2 = vector_2.transform(procesado)\n",
    "print(len(vector_2.vocabulary_))"
   ]
  },
  {
   "cell_type": "markdown",
   "id": "outer-morgan",
   "metadata": {},
   "source": [
    "## Smothing Laplaciano\n",
    "\n",
    "Si el vocabulario es muy extenso, las palabras pueden no aparecer nunca para articulos de una determinada clase lo cual se traduce en que P($w_i$|y=k) = 0, esto lleva a que si en un articulo aparece dicha palabra la clase queda totalmente descartada. Para evitar este comportamiento abrupto es posible \"agregar un aticulo\" para cada clase que contenga $\\alpha$ veces cada palabra, evitando asi que niguna likelihood tome valor 0"
   ]
  },
  {
   "cell_type": "markdown",
   "id": "hollow-particle",
   "metadata": {},
   "source": [
    "### Training del modelo"
   ]
  },
  {
   "cell_type": "markdown",
   "id": "confidential-batman",
   "metadata": {},
   "source": [
    "Armo una funcion para entrenar y otra para testear el modelo\n",
    "Para el entrenamineto calculo las log_probabilidades condicionales de cada palabra sabiendo en que tipo de articulo estoy trabajando, esto facilita luego los calculos ya que pueden hacerse como producto de matrices"
   ]
  },
  {
   "cell_type": "code",
   "execution_count": 17,
   "id": "informed-shock",
   "metadata": {},
   "outputs": [],
   "source": [
    "def train(x_train, y_train, alpha=0):\n",
    "    dl = y_train.shape[0]\n",
    "    lprob, llike = [], []\n",
    "    for i in range(20):\n",
    "        mask = y_train == i\n",
    "        ocurr = x_train[mask, :].sum(axis=0)+alpha\n",
    "        total = ocurr.sum(axis=1).A[0][0]\n",
    "        llike.append(np.log(ocurr/total).A[0])\n",
    "        lprob.append(np.log(mask.sum()/dl))\n",
    "    return np.array(llike), np.array(lprob)"
   ]
  },
  {
   "cell_type": "markdown",
   "id": "listed-powder",
   "metadata": {},
   "source": [
    "Para el calculo de las probabilidades a posteriori, al utilizar un modelo de Naive Bayes, asumimos independencia entre palabras, es decir no importa el orden en que aparezcan las mismas ni su lugar en la oración, por lo tanto la formula para la probabilidad queda descripta como:"
   ]
  },
  {
   "cell_type": "markdown",
   "id": "instructional-exclusive",
   "metadata": {},
   "source": [
    "$P(y=k|x_1,x_2,...,x_n)=\\prod_{i=1}^{i=n}P(x_i|y=k)\\cdot P(y=k) / P(x_1,..., x_n)$"
   ]
  },
  {
   "cell_type": "markdown",
   "id": "collectible-possibility",
   "metadata": {},
   "source": [
    "$logP(y=k|x_1,x_2,...,x_n)=\\sum_{i=1}^{i=n}logP(x_i|y=k) + logP(y=k) - P(x_1,..., x_n)$"
   ]
  },
  {
   "cell_type": "code",
   "execution_count": 18,
   "id": "thorough-looking",
   "metadata": {},
   "outputs": [],
   "source": [
    "def test(log_l, log_p, x_test, y_test):\n",
    "    corrects = 0\n",
    "    loglike = log_l.transpose()\n",
    "    for i in range(x_test.shape[0]):\n",
    "        res = x_test[i]*loglike + log_p\n",
    "        if res.argmax()==y_test[i]:\n",
    "            corrects += 1\n",
    "    return corrects/x_test.shape[0]"
   ]
  },
  {
   "cell_type": "code",
   "execution_count": 19,
   "id": "dental-brand",
   "metadata": {},
   "outputs": [],
   "source": [
    "# Para porbar el correcto funcionamiento de las funciones pruebo con un alpha arbitrario\n",
    "a = 1\n",
    "log_like, log_prob = train(X_train_2, twenty_train.target, a)"
   ]
  },
  {
   "cell_type": "code",
   "execution_count": 20,
   "id": "perceived-following",
   "metadata": {},
   "outputs": [
    {
     "name": "stdout",
     "output_type": "stream",
     "text": [
      "Tokenize ready\n",
      "Lammatize ready\n",
      "Stop remove ready\n",
      "Stemmed ready\n",
      "Finished\n"
     ]
    }
   ],
   "source": [
    "test_data = treat_data(twenty_test)\n",
    "save_data('Cache/test_1.pkl', test_data)"
   ]
  },
  {
   "cell_type": "code",
   "execution_count": 21,
   "id": "southern-lecture",
   "metadata": {},
   "outputs": [],
   "source": [
    "# Utilizando el count vectorizer que ya sabe el vocabulario, pasamos los datos a matriz\n",
    "X_test = vector_2.transform(test_data)"
   ]
  },
  {
   "cell_type": "code",
   "execution_count": 22,
   "id": "nutritional-definition",
   "metadata": {},
   "outputs": [
    {
     "name": "stdout",
     "output_type": "stream",
     "text": [
      "Accuracy: 0.2\n"
     ]
    }
   ],
   "source": [
    "aux = test(log_like, log_prob, X_test, twenty_test.target)\n",
    "print(\"Accuracy:\", aux)"
   ]
  },
  {
   "cell_type": "markdown",
   "id": "closing-indicator",
   "metadata": {},
   "source": [
    "En esta primera Iteracion se obtuvo una presicion del 71%, por lo cual consideramos que el modelo desarrollado en principio es aceptable pero puede ser mejorado.\n",
    "\n",
    "Para poder mejorar el modelo primero separamos el set de train, en train y validacion"
   ]
  },
  {
   "cell_type": "code",
   "execution_count": 23,
   "id": "floating-grant",
   "metadata": {},
   "outputs": [
    {
     "name": "stdout",
     "output_type": "stream",
     "text": [
      "El largo del vocabulario es: 20851\n"
     ]
    }
   ],
   "source": [
    "x_train, x_test, y_train, y_test = train_test_split(procesado, twenty_train.target, test_size = 0.2, random_state=2)\n",
    "vector, x_train_b = vectorizer(x_train, CountVectorizer, 0.01, 2)\n",
    "x_test_b = vector.transform(x_test)"
   ]
  },
  {
   "cell_type": "code",
   "execution_count": 24,
   "id": "fifteen-relationship",
   "metadata": {},
   "outputs": [
    {
     "name": "stdout",
     "output_type": "stream",
     "text": [
      "Using aplha = 1, accuracy = 0.7989394608926205\n",
      "Using aplha = 0.1, accuracy = 0.8121961997348652\n",
      "Using aplha = 0.01, accuracy = 0.8121961997348652\n",
      "Using aplha = 0.001, accuracy = 0.8042421564295184\n",
      "Using aplha = 0.0001, accuracy = 0.7971718957136544\n"
     ]
    }
   ],
   "source": [
    "# Voy a variar alpha entre 1 y 0.0001 de forma exponencial\n",
    "for i in range(5):\n",
    "    alpha = 10**(-i)\n",
    "    log_like, log_prob = train(x_train_b, y_train, alpha)\n",
    "    acc = test(log_like, log_prob, x_test_b, y_test)\n",
    "    print(\"Using aplha = {}, accuracy = {}\".format(alpha, acc))"
   ]
  },
  {
   "cell_type": "code",
   "execution_count": 25,
   "id": "immune-number",
   "metadata": {},
   "outputs": [
    {
     "name": "stdout",
     "output_type": "stream",
     "text": [
      "Using aplha = 0.05, accuracy = 0.8148475475033142\n",
      "Using aplha = 0.060000000000000005, accuracy = 0.8139637649138312\n",
      "Using aplha = 0.07, accuracy = 0.8148475475033142\n",
      "Using aplha = 0.08, accuracy = 0.8139637649138312\n",
      "Using aplha = 0.09, accuracy = 0.8144056562085726\n",
      "Using aplha = 0.1, accuracy = 0.8121961997348652\n",
      "Using aplha = 0.11, accuracy = 0.8117543084401238\n",
      "Using aplha = 0.12000000000000001, accuracy = 0.8130799823243482\n",
      "Using aplha = 0.13, accuracy = 0.8130799823243482\n",
      "Using aplha = 0.14, accuracy = 0.8121961997348652\n"
     ]
    }
   ],
   "source": [
    "for i in range(10):\n",
    "    alpha = 0.05+0.01*i\n",
    "    log_like, log_prob = train(x_train_b, y_train, alpha)\n",
    "    acc = test(log_like, log_prob, x_test_b, y_test)\n",
    "    print(\"Using aplha = {}, accuracy = {}\".format(alpha, acc))"
   ]
  },
  {
   "cell_type": "markdown",
   "id": "sunrise-operator",
   "metadata": {},
   "source": [
    "Despues de estas dos pruebas podemos considerear el $\\alpha_{optimo} = 0.06$"
   ]
  },
  {
   "cell_type": "markdown",
   "id": "outside-withdrawal",
   "metadata": {},
   "source": [
    "Ahora relizaremos las mismas pruebas pero variando el min_df y luego el max_df"
   ]
  },
  {
   "cell_type": "code",
   "execution_count": 26,
   "id": "limiting-details",
   "metadata": {},
   "outputs": [],
   "source": [
    "x_train, x_test, y_train, y_test = train_test_split(procesado, twenty_train.target, test_size = 0.2, random_state = 2)"
   ]
  },
  {
   "cell_type": "code",
   "execution_count": 27,
   "id": "conservative-appraisal",
   "metadata": {},
   "outputs": [
    {
     "name": "stdout",
     "output_type": "stream",
     "text": [
      "El largo del vocabulario es: 41450\n",
      "Using min_df = 1, accuracy = 0.8258948298718515\n",
      "El largo del vocabulario es: 20851\n",
      "Using min_df = 2, accuracy = 0.8139637649138312\n"
     ]
    }
   ],
   "source": [
    "for i in range(1,3):\n",
    "    vector, x_train_b = vectorizer(x_train, CountVectorizer, 0.01, i)\n",
    "    x_test_b = vector.transform(x_test)\n",
    "    log_like, log_prob = train(x_train_b, y_train, 0.06)\n",
    "    acc = test(log_like, log_prob, x_test_b, y_test)\n",
    "    print(\"Using min_df = {}, accuracy = {}\".format(i, acc))"
   ]
  },
  {
   "cell_type": "code",
   "execution_count": 28,
   "id": "comparable-manufacturer",
   "metadata": {},
   "outputs": [
    {
     "name": "stdout",
     "output_type": "stream",
     "text": [
      "El largo del vocabulario es: 20599\n",
      "Using max_df = 1, accuracy = 0.3592576226248343\n",
      "El largo del vocabulario es: 42908\n",
      "Using max_df = 0.1, accuracy = 0.8643393725143614\n",
      "El largo del vocabulario es: 41450\n",
      "Using max_df = 0.01, accuracy = 0.8418029164825453\n",
      "El largo del vocabulario es: 36014\n",
      "Using max_df = 0.001, accuracy = 0.6995139195757843\n"
     ]
    }
   ],
   "source": [
    "for i in range(4):\n",
    "    max_df = 10**(-i)\n",
    "    vector, x_train_b = vectorizer(x_train, TfidfVectorizer, max_df, 1)\n",
    "    x_test_b = vector.transform(x_test)\n",
    "    log_like, log_prob = train(x_train_b, y_train, 0.06)\n",
    "    acc = test(log_like, log_prob, x_test_b, y_test)\n",
    "    print(\"Using max_df = {}, accuracy = {}\".format(max_df, acc))"
   ]
  },
  {
   "cell_type": "code",
   "execution_count": 29,
   "id": "pressed-passing",
   "metadata": {},
   "outputs": [
    {
     "name": "stdout",
     "output_type": "stream",
     "text": [
      "El largo del vocabulario es: 41450\n",
      "Using max_df = 0.01, accuracy = 0.8418029164825453\n",
      "El largo del vocabulario es: 42443\n",
      "Using max_df = 0.03, accuracy = 0.856827220503756\n",
      "El largo del vocabulario es: 42723\n",
      "Using max_df = 0.05, accuracy = 0.865665046398586\n",
      "El largo del vocabulario es: 42838\n",
      "Using max_df = 0.06999999999999999, accuracy = 0.8643393725143614\n",
      "El largo del vocabulario es: 42887\n",
      "Using max_df = 0.09, accuracy = 0.8643393725143614\n",
      "El largo del vocabulario es: 42928\n",
      "Using max_df = 0.11, accuracy = 0.8647812638091029\n"
     ]
    }
   ],
   "source": [
    "for i in range(6):\n",
    "    max_df = 0.01 + 0.02*i\n",
    "    vector, x_train_b = vectorizer(x_train, TfidfVectorizer, max_df, 1)\n",
    "    x_test_b = vector.transform(x_test)\n",
    "    log_like, log_prob = train(x_train_b, y_train, 0.06)\n",
    "    acc = test(log_like, log_prob, x_test_b, y_test)\n",
    "    print(\"Using max_df = {}, accuracy = {}\".format(max_df, acc))"
   ]
  },
  {
   "cell_type": "markdown",
   "id": "pretty-token",
   "metadata": {},
   "source": [
    "De estas pruebas podemos obtener que los mejores resultados se obtuvieron con max_df = 0.03 y min_df = 1.\n",
    "Entrenamos una vez mas el modelo con estos parametros definidos"
   ]
  },
  {
   "cell_type": "code",
   "execution_count": 30,
   "id": "invalid-vitamin",
   "metadata": {},
   "outputs": [
    {
     "name": "stdout",
     "output_type": "stream",
     "text": [
      "El largo del vocabulario es: 48124\n",
      "Using Tf-idf, accuracy = 0.2\n"
     ]
    }
   ],
   "source": [
    "vector, x_train = vectorizer(procesado, CountVectorizer, 0.03, 1)\n",
    "x_test = vector.transform(test_data)\n",
    "y_train = twenty_train.target\n",
    "y_test = twenty_test.target\n",
    "log_like, log_prob = train(x_train, y_train, 0.06)\n",
    "acc = test(log_like, log_prob, x_test, y_test)\n",
    "print(\"Using Tf-idf, accuracy = {}\".format(acc))"
   ]
  },
  {
   "cell_type": "markdown",
   "id": "regulation-attribute",
   "metadata": {},
   "source": [
    "Otra posibilidad para mejorar el modelo es utilizar tf-idf vectorizer, que ademas de calcular la frecuencia de cada palbra, la multiplica por la inversa del document frequency de la pablabra: \n",
    "$$ tf-idf(palabra, doc) = tf(palabra, doc) *  log [\\frac{ n }{ df(palabra)} ] $$"
   ]
  },
  {
   "cell_type": "code",
   "execution_count": 31,
   "id": "waiting-frank",
   "metadata": {},
   "outputs": [
    {
     "name": "stdout",
     "output_type": "stream",
     "text": [
      "El largo del vocabulario es: 48124\n",
      "Using Tf-idf, accuracy = 0.0\n"
     ]
    }
   ],
   "source": [
    "vector, x_train = vectorizer(procesado, TfidfVectorizer, 0.03, 1)\n",
    "x_test = vector.transform(test_data)\n",
    "y_train = twenty_train.target\n",
    "y_test = twenty_test.target\n",
    "log_like, log_prob = train(x_train, y_train, 0.06)\n",
    "acc = test(log_like, log_prob, x_test, y_test)\n",
    "print(\"Using Tf-idf, accuracy = {}\".format(acc))"
   ]
  },
  {
   "cell_type": "code",
   "execution_count": 32,
   "id": "defensive-breath",
   "metadata": {},
   "outputs": [
    {
     "name": "stdout",
     "output_type": "stream",
     "text": [
      "Tokenize ready\n",
      "Stop remove ready\n",
      "Finished\n",
      "Tokenize ready\n",
      "Stop remove ready\n",
      "Finished\n"
     ]
    }
   ],
   "source": [
    "train_stop = treat_data(twenty_train['data'], lemm=False, stem=False, stop=True)\n",
    "save_data('Cache/train_stop.pkl', train_stop)\n",
    "test_stop = treat_data(twenty_test['data'], lemm=False, stem=False, stop=True)\n",
    "save_data('Cache/test_stop.pkl', test_stop)"
   ]
  },
  {
   "cell_type": "code",
   "execution_count": 33,
   "id": "assigned-abuse",
   "metadata": {},
   "outputs": [
    {
     "name": "stdout",
     "output_type": "stream",
     "text": [
      "I wa wonder anyon could enlighten car I saw day It wa sport car look late earli It wa call bricklin the door realli small In addit front bumper wa separ rest bodi thi I know If anyon tellm model name engin spec year product car made histori whatev info funki look car pleas\n",
      "I wondering anyone could enlighten car I saw day It sports car looked late early It called Bricklin The doors really small In addition front bumper separate rest body This I know If anyone tellme model name engine specs years production car made history whatever info funky looking car please\n"
     ]
    }
   ],
   "source": [
    "print(procesado[0])\n",
    "print(train_stop[0])"
   ]
  },
  {
   "cell_type": "code",
   "execution_count": 34,
   "id": "aging-houston",
   "metadata": {},
   "outputs": [
    {
     "name": "stdout",
     "output_type": "stream",
     "text": [
      "El largo del vocabulario es: 65839\n",
      "Using Tf-idf + only remove stopwords, accuracy = 0.7858470525756771\n"
     ]
    }
   ],
   "source": [
    "vector, x_train = vectorizer(train_stop, TfidfVectorizer, 0.03, 1)\n",
    "x_test = vector.transform(test_stop)\n",
    "y_train = twenty_train.target\n",
    "y_test = twenty_test.target\n",
    "log_like, log_prob = train(x_train, y_train, 0.06)\n",
    "acc = test(log_like, log_prob, x_test, y_test)\n",
    "print(\"Using Tf-idf + only remove stopwords, accuracy = {}\".format(acc))"
   ]
  },
  {
   "cell_type": "code",
   "execution_count": 35,
   "id": "shaped-technique",
   "metadata": {},
   "outputs": [
    {
     "name": "stdout",
     "output_type": "stream",
     "text": [
      "Tokenize ready\n",
      "Lammatize ready\n",
      "Stop remove ready\n",
      "Finished\n",
      "Tokenize ready\n",
      "Lammatize ready\n",
      "Stop remove ready\n",
      "Finished\n"
     ]
    }
   ],
   "source": [
    "train_lemm = treat_data(twenty_train['data'], lemm=True, stem=False, stop=True)\n",
    "save_data('Cache/train_lemm.pkl', train_lemm)\n",
    "test_lemm = treat_data(twenty_test['data'], lemm=True, stem=False, stop=True)\n",
    "save_data('Cache/test_lemm.pkl', test_lemm)"
   ]
  },
  {
   "cell_type": "code",
   "execution_count": 36,
   "id": "scenic-glass",
   "metadata": {},
   "outputs": [
    {
     "name": "stdout",
     "output_type": "stream",
     "text": [
      "El largo del vocabulario es: 62609\n",
      "Using Tf-idf + only remove stopwords, accuracy = 0.77947424322889\n"
     ]
    }
   ],
   "source": [
    "vector, x_train = vectorizer(train_lemm, TfidfVectorizer, 0.03, 1)\n",
    "x_test = vector.transform(test_lemm)\n",
    "y_train = twenty_train.target\n",
    "y_test = twenty_test.target\n",
    "log_like, log_prob = train(x_train, y_train, 0.06)\n",
    "acc = test(log_like, log_prob, x_test, y_test)\n",
    "print(\"Using Tf-idf + only remove stopwords, accuracy = {}\".format(acc))"
   ]
  },
  {
   "cell_type": "code",
   "execution_count": null,
   "id": "rolled-mention",
   "metadata": {},
   "outputs": [],
   "source": []
  }
 ],
 "metadata": {
  "kernelspec": {
   "display_name": "Python 3",
   "language": "python",
   "name": "python3"
  },
  "language_info": {
   "codemirror_mode": {
    "name": "ipython",
    "version": 3
   },
   "file_extension": ".py",
   "mimetype": "text/x-python",
   "name": "python",
   "nbconvert_exporter": "python",
   "pygments_lexer": "ipython3",
   "version": "3.8.8"
  }
 },
 "nbformat": 4,
 "nbformat_minor": 5
}
