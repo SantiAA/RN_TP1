{
 "cells": [
  {
   "cell_type": "code",
   "execution_count": 1,
   "id": "fifteen-acrobat",
   "metadata": {},
   "outputs": [
    {
     "name": "stderr",
     "output_type": "stream",
     "text": [
      "[nltk_data] Downloading package punkt to\n",
      "[nltk_data]     C:\\Users\\Administrador\\AppData\\Roaming\\nltk_data...\n",
      "[nltk_data]   Package punkt is already up-to-date!\n",
      "[nltk_data] Downloading package wordnet to\n",
      "[nltk_data]     C:\\Users\\Administrador\\AppData\\Roaming\\nltk_data...\n",
      "[nltk_data]   Package wordnet is already up-to-date!\n",
      "[nltk_data] Downloading package stopwords to\n",
      "[nltk_data]     C:\\Users\\Administrador\\AppData\\Roaming\\nltk_data...\n",
      "[nltk_data]   Package stopwords is already up-to-date!\n"
     ]
    }
   ],
   "source": [
    "import nltk\n",
    "import pickle\n",
    "import seaborn as sb\n",
    "import numpy as np\n",
    "import matplotlib.pyplot as plt\n",
    "from nltk.tokenize import word_tokenize\n",
    "from nltk.stem import WordNetLemmatizer, PorterStemmer\n",
    "from nltk.corpus import stopwords\n",
    "from sklearn.datasets import fetch_20newsgroups\n",
    "from sklearn.model_selection import train_test_split\n",
    "from sklearn.feature_extraction.text import CountVectorizer, TfidfVectorizer\n",
    "\n",
    "nltk.download('punkt')\n",
    "nltk.download('wordnet')\n",
    "nltk.download('stopwords')\n",
    "twenty_train = fetch_20newsgroups(subset='train', shuffle=True, remove=('headers', 'footers'))\n",
    "twenty_test  = fetch_20newsgroups(subset='test' , shuffle=True, remove=('headers', 'footers'))\n",
    "\n",
    "# Separo en train test y validacion\n",
    "x_train, x_valid, y_train, y_valid = train_test_split(twenty_train['data'], twenty_train.target, test_size = 0.2, random_state=2)\n",
    "x_test, y_test = twenty_test['data'], twenty_test.target"
   ]
  },
  {
   "cell_type": "markdown",
   "id": "expected-companion",
   "metadata": {},
   "source": [
    "## Revision de los datos"
   ]
  },
  {
   "cell_type": "code",
   "execution_count": 2,
   "id": "sophisticated-romantic",
   "metadata": {},
   "outputs": [
    {
     "name": "stdout",
     "output_type": "stream",
     "text": [
      "dict_keys(['data', 'filenames', 'target_names', 'target', 'DESCR'])\n",
      "Cantidad de clases:  20\n"
     ]
    }
   ],
   "source": [
    "print(twenty_train.keys())\n",
    "print(\"Cantidad de clases: \",len(twenty_train.target_names))"
   ]
  },
  {
   "cell_type": "markdown",
   "id": "consolidated-highland",
   "metadata": {},
   "source": [
    "De estos tipos de datos me van a interesar data pq contiene el texto que quiero clasificar y target/target_names que son las clases en las que quiero clasificar los textos"
   ]
  },
  {
   "cell_type": "code",
   "execution_count": 3,
   "id": "through-flooring",
   "metadata": {},
   "outputs": [
    {
     "name": "stdout",
     "output_type": "stream",
     "text": [
      "Dataset length: 11314\n"
     ]
    }
   ],
   "source": [
    "data_len = len(twenty_train['data'])\n",
    "print('Dataset length:',data_len)"
   ]
  },
  {
   "cell_type": "markdown",
   "id": "geological-punishment",
   "metadata": {},
   "source": [
    "Guarde el largo de mi dataset"
   ]
  },
  {
   "cell_type": "code",
   "execution_count": 4,
   "id": "spiritual-ministry",
   "metadata": {},
   "outputs": [
    {
     "data": {
      "text/plain": [
       "['I was wondering if anyone out there could enlighten me on this car I saw',\n",
       " 'the other day. It was a 2-door sports car, looked to be from the late 60s/',\n",
       " 'early 70s. It was called a Bricklin. The doors were really small. In addition,',\n",
       " 'the front bumper was separate from the rest of the body. This is ',\n",
       " 'all I know. If anyone can tellme a model name, engine specs, years',\n",
       " 'of production, where this car is made, history, or whatever info you',\n",
       " 'have on this funky looking car, please e-mail.']"
      ]
     },
     "execution_count": 4,
     "metadata": {},
     "output_type": "execute_result"
    }
   ],
   "source": [
    "twenty_train['data'][0].split('\\n')"
   ]
  },
  {
   "cell_type": "code",
   "execution_count": 5,
   "id": "essential-wheat",
   "metadata": {},
   "outputs": [
    {
     "name": "stdout",
     "output_type": "stream",
     "text": [
      "Clase 0: 4.2425%\n",
      "Clase 1: 5.1617%\n",
      "Clase 2: 5.2236%\n",
      "Clase 3: 5.2148%\n",
      "Clase 4: 5.1087%\n",
      "Clase 5: 5.2413%\n",
      "Clase 6: 5.1706%\n",
      "Clase 7: 5.2501%\n",
      "Clase 8: 5.2855%\n",
      "Clase 9: 5.2766%\n",
      "Clase 10: 5.3032%\n",
      "Clase 11: 5.2590%\n",
      "Clase 12: 5.2236%\n",
      "Clase 13: 5.2501%\n",
      "Clase 14: 5.2413%\n",
      "Clase 15: 5.2943%\n",
      "Clase 16: 4.8259%\n",
      "Clase 17: 4.9850%\n",
      "Clase 18: 4.1100%\n",
      "Clase 19: 3.3322%\n"
     ]
    }
   ],
   "source": [
    "# Podemos observar la proporcion de clases\n",
    "for i in range(20):\n",
    "    mask = twenty_train.target == i\n",
    "    print(\"Clase {}: {:.4f}%\".format(i , mask.sum()/data_len*100))"
   ]
  },
  {
   "cell_type": "markdown",
   "id": "proud-speaker",
   "metadata": {},
   "source": [
    "Como se puede observar las clases tienen una distribucion aproximadamente uniforme, por lo tanto el accuracy es una buena metrica para evaluar el modelo de prediccion"
   ]
  },
  {
   "cell_type": "markdown",
   "id": "trained-tulsa",
   "metadata": {},
   "source": [
    "Una vez con una idea de los datos podemos empezar a procesar los datos."
   ]
  },
  {
   "cell_type": "markdown",
   "id": "australian-reach",
   "metadata": {},
   "source": [
    "## Procesamiento de los datos"
   ]
  },
  {
   "cell_type": "markdown",
   "id": "intermediate-reach",
   "metadata": {},
   "source": [
    "Vamos a separar estos textos en palabras individuales (tokenizar), lematizar, quitar las palabras que sean muy repetitivas del idioma y reemplazar algunas palabras por su raiz\n",
    "Para esto armamos una funcion la cual perimite elegir cual de los tratamientos aplicar a un determinado set de datos de entrada\n",
    "\n",
    "La lemmatización permite colapsar todas las instancias de una palabra con variaciones en su inflección o modo de uso en un mismo token, reduciendo el conjunto de palabras final y detectando mejor el uso de una misma palabra. En este caso no utilizamos un algoritmo para detectar si palabras con multiples tipos (sustantivo, adjetivo, verbo, adverbio) estan siendo usadas como uno u otro tipo, por lo cual WordNet presume que son sustantivos.\n",
    "\n",
    "Stemming colapsa aún más las instancias de una palabra llevandolas a la raiz de la misma, usualmente resultando en la aproximación a un concepto base. Por ejemplo, se remueven prefijos, sufijos, etc. La lemmatización previa funciona como un stemming más complejo, y el stemmer utilizado termina de reducir las palabras a su forma más simple."
   ]
  },
  {
   "cell_type": "code",
   "execution_count": 6,
   "id": "laughing-wednesday",
   "metadata": {},
   "outputs": [],
   "source": [
    "def treat_data(data, lemm=True, stem=True, stop=True):\n",
    "    lem = WordNetLemmatizer()\n",
    "    stemm = PorterStemmer()\n",
    "    stop_words = stopwords.words('english')\n",
    "    p_data = [word_tokenize(x) for x in data]\n",
    "    print(\"Tokenize ready\")\n",
    "    \n",
    "    if lemm:\n",
    "        p_data = [[lem.lemmatize(y) for y in x ] for x in p_data]\n",
    "        print(\"Lammatize ready\")\n",
    "    if stop:\n",
    "        p_data = [[x for x in y if x not in stop_words] for y in p_data]\n",
    "        print(\"Stop remove ready\")\n",
    "    if stem:\n",
    "        p_data = [[stemm.stem(x) for x in y] for y in p_data]\n",
    "        print(\"Stemmed ready\")\n",
    "    \n",
    "    p_data = [[x for x in y if x.isalpha()] for y in p_data]\n",
    "    print(\"Finished\")\n",
    "    return [' '.join(x) for x in p_data]"
   ]
  },
  {
   "cell_type": "code",
   "execution_count": 7,
   "id": "german-anxiety",
   "metadata": {},
   "outputs": [],
   "source": [
    "# Cache functions\n",
    "def save_data(filename, array):\n",
    "    f = open(filename, 'wb')\n",
    "    pickle.dump(array, f)\n",
    "    f.close()\n",
    "\n",
    "def get_data(filename):\n",
    "    f = open(filename, 'rb')\n",
    "    ret = pickle.load(f)\n",
    "    f.close()\n",
    "    return ret"
   ]
  },
  {
   "cell_type": "markdown",
   "id": "loving-recipe",
   "metadata": {},
   "source": [
    "Procesamos los datos de train aplicando tokenizacion, lematizacion, stemmer, y sacando las palabras tipicas del lenguaje"
   ]
  },
  {
   "cell_type": "code",
   "execution_count": 8,
   "id": "average-market",
   "metadata": {},
   "outputs": [
    {
     "name": "stdout",
     "output_type": "stream",
     "text": [
      "Tokenize ready\n",
      "Lammatize ready\n",
      "Stop remove ready\n",
      "Stemmed ready\n",
      "Finished\n",
      "Tokenize ready\n",
      "Lammatize ready\n",
      "Stop remove ready\n",
      "Stemmed ready\n",
      "Finished\n"
     ]
    }
   ],
   "source": [
    "x_train_p = treat_data(x_train)\n",
    "x_valid_p = treat_data(x_valid)"
   ]
  },
  {
   "cell_type": "markdown",
   "id": "transsexual-brisbane",
   "metadata": {},
   "source": [
    "Para continuar con el analisis de los datos vamos a realizar un análisis del document frequency de las palabras, esto sera de utilidad para definir rangos posibles para los valores de max_df y min_df a la hora de armar el vocabulario del modelo."
   ]
  },
  {
   "cell_type": "code",
   "execution_count": 9,
   "id": "educated-unknown",
   "metadata": {},
   "outputs": [],
   "source": [
    "def vectorizer(data, cv, M_df = 1.0, m_df = 1):\n",
    "    #instancio un count vectorizer para pasar los strings a vectores\n",
    "    vector = cv(max_df=M_df, min_df=m_df)\n",
    "    # Armo el vocabulario\n",
    "    vector.fit(data)\n",
    "    print(\"El largo del vocabulario es:\", len(vector.vocabulary_))\n",
    "    return vector, vector.transform(data)"
   ]
  },
  {
   "cell_type": "code",
   "execution_count": 10,
   "id": "severe-japan",
   "metadata": {},
   "outputs": [
    {
     "name": "stdout",
     "output_type": "stream",
     "text": [
      "El largo del vocabulario es: 43007\n"
     ]
    }
   ],
   "source": [
    "train_matrix, x_train_v = vectorizer(x_train_p, CountVectorizer)"
   ]
  },
  {
   "cell_type": "code",
   "execution_count": 11,
   "id": "offshore-university",
   "metadata": {},
   "outputs": [],
   "source": [
    "def get_df(sparse_matrix):\n",
    "    times = np.array([x.count_nonzero() for x in sparse_matrix.transpose()])\n",
    "    times_r = times/sparse_matrix.shape[0]\n",
    "    return times, times_r\n",
    "\n",
    "def plot_docfreq(absolute, relative, max_a=100, max_r=0.8):\n",
    "    fig, axs = plt.subplots(1, 2, figsize=(14, 7))\n",
    "    print(\"Max document frequency: {}\\nMin appearances: {}\".format(max(relative), min(absolute)))\n",
    "    axs[0].hist(absolute, bins=20, range=[0, max_a]) #creamos el gráfico en Seaborn\n",
    "    axs[1].hist(relative, bins=20, range=[0, max_r]) #creamos el gráfico en Seaborn\n",
    "    plt.ylabel(\"# Palabras\")\n",
    "    plt.plot()"
   ]
  },
  {
   "cell_type": "code",
   "execution_count": 12,
   "id": "chronic-berry",
   "metadata": {},
   "outputs": [],
   "source": [
    "test_t, test_tr = get_df(x_train_v)"
   ]
  },
  {
   "cell_type": "code",
   "execution_count": 13,
   "id": "advanced-thousand",
   "metadata": {},
   "outputs": [
    {
     "name": "stdout",
     "output_type": "stream",
     "text": [
      "Max document frequency: 0.5333112363274777\n",
      "Min appearances: 1\n"
     ]
    },
    {
     "data": {
      "image/png": "[encoded data removed]",
      "text/plain": [
       "<Figure size 1008x504 with 2 Axes>"
      ]
     },
     "metadata": {
      "needs_background": "light"
     },
     "output_type": "display_data"
    }
   ],
   "source": [
    "plot_docfreq(test_t, test_tr, 20, 0.01)"
   ]
  },
  {
   "cell_type": "code",
   "execution_count": 14,
   "id": "trained-combine",
   "metadata": {},
   "outputs": [
    {
     "data": {
      "text/plain": [
       "'i look good deal follow use new aviat headset mic handheld tranciev may consid com portabl gp loran navig repli call pleas wake night worker hous must call day i understand want employ pay call jay snyder jay gdx uunet compnect gdx jay thi brain unix worldblaz thi brain drug msdo unix msdo file area xenix bin'"
      ]
     },
     "execution_count": 14,
     "metadata": {},
     "output_type": "execute_result"
    }
   ],
   "source": [
    "x_train_p[1]"
   ]
  },
  {
   "cell_type": "code",
   "execution_count": 15,
   "id": "controlling-screening",
   "metadata": {},
   "outputs": [
    {
     "data": {
      "text/plain": [
       "3.622666077615272"
      ]
     },
     "execution_count": 15,
     "metadata": {},
     "output_type": "execute_result"
    }
   ],
   "source": [
    "(test_tr > 0.01).sum()/len(test_tr)*100"
   ]
  },
  {
   "cell_type": "markdown",
   "id": "extreme-casino",
   "metadata": {},
   "source": [
    "Se puede observar que menos hay pocas palabras que aparezcan en más del 1% de los articulos, con lo cual se puede tener una pauta de en torno a que valores variar el max_df, y ademas se puede apreicar que la gran mayoria de palabras aparecen en pocos articulos (1 o 2) por lo tanto tambien es posible inferir valores para el min_df"
   ]
  },
  {
   "cell_type": "code",
   "execution_count": 16,
   "id": "bacterial-cement",
   "metadata": {},
   "outputs": [
    {
     "name": "stdout",
     "output_type": "stream",
     "text": [
      "20851\n"
     ]
    }
   ],
   "source": [
    "#instancio un count vectorizer para pasar los strings a vectores\n",
    "c_vector = CountVectorizer(max_df=0.01, min_df=2)\n",
    "# Armo el vocabulario\n",
    "c_vector.fit(x_train_p)\n",
    "# Paso el volcabulario a matriz y cuenta la cantidad de veces que aparecen port articulo\n",
    "x_train_Mdf_mdf = c_vector.transform(x_train_p)\n",
    "print(len(c_vector.vocabulary_))"
   ]
  },
  {
   "cell_type": "markdown",
   "id": "vocational-receptor",
   "metadata": {},
   "source": [
    "## Smothing Laplaciano\n",
    "\n",
    "Si el vocabulario es muy extenso, las palabras pueden no aparecer nunca para articulos de una determinada clase lo cual se traduce en que P($w_i$|y=k) = 0, esto lleva a que si en un articulo aparece dicha palabra la clase queda totalmente descartada. Para evitar este comportamiento abrupto es posible \"agregar un aticulo\" para cada clase que contenga $\\alpha$ veces cada palabra, evitando asi que niguna likelihood tome valor 0"
   ]
  },
  {
   "cell_type": "markdown",
   "id": "impressed-aspect",
   "metadata": {},
   "source": [
    "### Training del modelo"
   ]
  },
  {
   "cell_type": "markdown",
   "id": "refined-cable",
   "metadata": {},
   "source": [
    "Armo una funcion para entrenar y otra para testear el modelo\n",
    "Para el entrenamineto calculo las log_probabilidades condicionales de cada palabra sabiendo en que tipo de articulo estoy trabajando, esto facilita luego los calculos ya que pueden hacerse como producto de matrices"
   ]
  },
  {
   "cell_type": "code",
   "execution_count": 17,
   "id": "smaller-conjunction",
   "metadata": {},
   "outputs": [],
   "source": [
    "def train(x_train, y_train, alpha=0):\n",
    "    dl = y_train.shape[0]\n",
    "    lprob, llike = [], []\n",
    "    for i in range(20):\n",
    "        mask = y_train == i\n",
    "        ocurr = x_train[mask, :].sum(axis=0)+alpha\n",
    "        total = ocurr.sum(axis=1).A[0][0]\n",
    "        llike.append(np.log(ocurr/total).A[0])\n",
    "        lprob.append(np.log(mask.sum()/dl))\n",
    "    return np.array(llike), np.array(lprob)\n",
    "\n",
    "def test(log_l, log_p, x_test, y_test):\n",
    "    corrects = 0\n",
    "    loglike = log_l.transpose()\n",
    "    for i in range(x_test.shape[0]):\n",
    "        res = x_test[i]*loglike + log_p\n",
    "        if res.argmax()==y_test[i]:\n",
    "            corrects += 1\n",
    "    return corrects/x_test.shape[0]"
   ]
  },
  {
   "cell_type": "markdown",
   "id": "small-choir",
   "metadata": {},
   "source": [
    "Para el calculo de las probabilidades a posteriori, al utilizar un modelo de Naive Bayes, asumimos independencia entre palabras, es decir no importa el orden en que aparezcan las mismas ni su lugar en la oración, por lo tanto la formula para la probabilidad queda descripta como:"
   ]
  },
  {
   "cell_type": "markdown",
   "id": "typical-implementation",
   "metadata": {},
   "source": [
    "$P(y=k|x_1,x_2,...,x_n)=\\prod_{i=1}^{i=n}P(x_i|y=k)\\cdot P(y=k) / P(x_1,..., x_n)$"
   ]
  },
  {
   "cell_type": "markdown",
   "id": "pleased-startup",
   "metadata": {},
   "source": [
    "$logP(y=k|x_1,x_2,...,x_n)=\\sum_{i=1}^{i=n}logP(x_i|y=k) + logP(y=k) - P(x_1,..., x_n)$"
   ]
  },
  {
   "cell_type": "code",
   "execution_count": 18,
   "id": "confidential-citation",
   "metadata": {},
   "outputs": [
    {
     "name": "stdout",
     "output_type": "stream",
     "text": [
      "Train Accuracy: 0.908960335874489\n",
      "Validation Accuracy: 0.7989394608926205\n"
     ]
    }
   ],
   "source": [
    "# Para porbar el correcto funcionamiento de las funciones pruebo con un alpha arbitrario\n",
    "a = 1\n",
    "log_like, log_prob = train(x_train_Mdf_mdf, y_train, a)\n",
    "# Utilizando el count vectorizer que ya sabe el vocabulario, pasamos los datos a matriz\n",
    "x_valid_Mdf_mdf = c_vector.transform(x_valid_p)\n",
    "# Verifico el funcionamient\n",
    "acc_train = test(log_like, log_prob, x_train_Mdf_mdf, y_train) \n",
    "acc_valid = test(log_like, log_prob, x_valid_Mdf_mdf, y_valid)\n",
    "print(\"Train Accuracy:\", acc_train)\n",
    "print(\"Validation Accuracy:\", acc_valid)"
   ]
  },
  {
   "cell_type": "markdown",
   "id": "cheap-complement",
   "metadata": {},
   "source": [
    "Podemos observar un buen comportamiento del modelo, pero tambien cierto grado de overffiting, vamos a continuar mejorando el  modelo para buscar un cambio en estos resultados"
   ]
  },
  {
   "cell_type": "code",
   "execution_count": 19,
   "id": "seasonal-tunnel",
   "metadata": {},
   "outputs": [
    {
     "name": "stdout",
     "output_type": "stream",
     "text": [
      "Using aplha = 1, train_acc = 0.9090, valid_acc = 0.7989\n",
      "Using aplha = 0.1, train_acc = 0.9333, valid_acc = 0.8122\n",
      "Using aplha = 0.01, train_acc = 0.9439, valid_acc = 0.8122\n",
      "Using aplha = 0.001, train_acc = 0.9470, valid_acc = 0.8042\n",
      "Using aplha = 0.0001, train_acc = 0.9476, valid_acc = 0.7972\n"
     ]
    }
   ],
   "source": [
    "# Voy a variar alpha entre 1 y 0.0001 de forma exponencial\n",
    "for i in range(5):\n",
    "    alpha = 10**(-i)\n",
    "    log_like, log_prob = train(x_train_Mdf_mdf, y_train, alpha)\n",
    "    acc_train = test(log_like, log_prob, x_train_Mdf_mdf, y_train) \n",
    "    acc_valid = test(log_like, log_prob, x_valid_Mdf_mdf, y_valid)\n",
    "    print(\"Using aplha = {}, train_acc = {:.4f}, valid_acc = {:.4f}\".format(alpha, acc_train, acc_valid))"
   ]
  },
  {
   "cell_type": "code",
   "execution_count": 20,
   "id": "indie-prescription",
   "metadata": {},
   "outputs": [
    {
     "name": "stdout",
     "output_type": "stream",
     "text": [
      "Using aplha = 0.05, train_acc = 0.9376, valid_acc = 0.8148\n",
      "Using aplha = 0.06, train_acc = 0.9367, valid_acc = 0.8140\n",
      "Using aplha = 0.07, train_acc = 0.9359, valid_acc = 0.8148\n",
      "Using aplha = 0.08, train_acc = 0.9345, valid_acc = 0.8140\n",
      "Using aplha = 0.09, train_acc = 0.9339, valid_acc = 0.8144\n",
      "Using aplha = 0.10, train_acc = 0.9333, valid_acc = 0.8122\n",
      "Using aplha = 0.11, train_acc = 0.9324, valid_acc = 0.8118\n",
      "Using aplha = 0.12, train_acc = 0.9322, valid_acc = 0.8131\n",
      "Using aplha = 0.13, train_acc = 0.9317, valid_acc = 0.8131\n",
      "Using aplha = 0.14, train_acc = 0.9312, valid_acc = 0.8122\n"
     ]
    }
   ],
   "source": [
    "for i in range(10):\n",
    "    alpha = 0.05+0.01*i\n",
    "    log_like, log_prob = train(x_train_Mdf_mdf, y_train, alpha)\n",
    "    acc_train = test(log_like, log_prob, x_train_Mdf_mdf, y_train) \n",
    "    acc_valid = test(log_like, log_prob, x_valid_Mdf_mdf, y_valid)\n",
    "    print(\"Using aplha = {:.2f}, train_acc = {:.4f}, valid_acc = {:.4f}\".format(alpha, acc_train, acc_valid))"
   ]
  },
  {
   "cell_type": "markdown",
   "id": "expired-angel",
   "metadata": {},
   "source": [
    "Despues de estas dos pruebas podemos considerear el $\\alpha_{optimo} = 0.07$"
   ]
  },
  {
   "cell_type": "markdown",
   "id": "functioning-cradle",
   "metadata": {},
   "source": [
    "Ahora relizaremos las mismas pruebas pero variando el min_df y luego el max_df"
   ]
  },
  {
   "cell_type": "code",
   "execution_count": 21,
   "id": "modular-jacket",
   "metadata": {},
   "outputs": [
    {
     "name": "stdout",
     "output_type": "stream",
     "text": [
      "El largo del vocabulario es: 41449\n",
      "Using min_df = 1.00, train_acc = 0.9520, valid_acc = 0.8246\n",
      "El largo del vocabulario es: 20851\n",
      "Using min_df = 2.00, train_acc = 0.9359, valid_acc = 0.8148\n"
     ]
    }
   ],
   "source": [
    "for i in range(1,3):\n",
    "    vector, x_train_b = vectorizer(x_train_p, CountVectorizer, 0.01, i)\n",
    "    x_valid_b = vector.transform(x_valid_p)\n",
    "    log_like, log_prob = train(x_train_b, y_train, 0.07)\n",
    "    acc_train = test(log_like, log_prob, x_train_b, y_train) \n",
    "    acc_valid = test(log_like, log_prob, x_valid_b, y_valid)\n",
    "    print(\"Using min_df = {:.2f}, train_acc = {:.4f}, valid_acc = {:.4f}\".format(i, acc_train, acc_valid))"
   ]
  },
  {
   "cell_type": "code",
   "execution_count": 22,
   "id": "suburban-crystal",
   "metadata": {},
   "outputs": [
    {
     "name": "stdout",
     "output_type": "stream",
     "text": [
      "El largo del vocabulario es: 20598\n",
      "Using max_df = 1.00, train_acc = 0.5528, valid_acc = 0.3544\n",
      "El largo del vocabulario es: 42907\n",
      "Using max_df = 0.10, train_acc = 0.9555, valid_acc = 0.8542\n",
      "El largo del vocabulario es: 41449\n",
      "Using max_df = 0.01, train_acc = 0.9520, valid_acc = 0.8246\n",
      "El largo del vocabulario es: 36013\n",
      "Using max_df = 0.00, train_acc = 0.8894, valid_acc = 0.6743\n"
     ]
    }
   ],
   "source": [
    "for i in range(4):\n",
    "    max_df = 10**(-i)\n",
    "    vector, x_train_b = vectorizer(x_train_p, CountVectorizer, max_df, 1)\n",
    "    x_valid_b = vector.transform(x_valid_p)\n",
    "    log_like, log_prob = train(x_train_b, y_train, 0.07)\n",
    "    acc_train = test(log_like, log_prob, x_train_b, y_train) \n",
    "    acc_valid = test(log_like, log_prob, x_valid_b, y_valid)\n",
    "    print(\"Using max_df = {:.2f}, train_acc = {:.4f}, valid_acc = {:.4f}\".format(max_df, acc_train, acc_valid))"
   ]
  },
  {
   "cell_type": "code",
   "execution_count": 23,
   "id": "modern-finnish",
   "metadata": {},
   "outputs": [
    {
     "name": "stdout",
     "output_type": "stream",
     "text": [
      "El largo del vocabulario es: 42722\n",
      "Using max_df = 0.05, train_acc = 0.9562, valid_acc = 0.8529\n",
      "El largo del vocabulario es: 42837\n",
      "Using max_df = 0.07, train_acc = 0.9546, valid_acc = 0.8506\n",
      "El largo del vocabulario es: 42886\n",
      "Using max_df = 0.09, train_acc = 0.9554, valid_acc = 0.8537\n",
      "El largo del vocabulario es: 42927\n",
      "Using max_df = 0.11, train_acc = 0.9555, valid_acc = 0.8546\n",
      "El largo del vocabulario es: 42946\n",
      "Using max_df = 0.13, train_acc = 0.9554, valid_acc = 0.8542\n",
      "El largo del vocabulario es: 42964\n",
      "Using max_df = 0.15, train_acc = 0.9549, valid_acc = 0.8537\n"
     ]
    }
   ],
   "source": [
    "for i in range(6):\n",
    "    max_df = 0.05 + 0.02*i\n",
    "    vector, x_train_b = vectorizer(x_train_p, CountVectorizer, max_df, 1)\n",
    "    x_valid_b = vector.transform(x_valid_p)\n",
    "    log_like, log_prob = train(x_train_b, y_train, 0.07)\n",
    "    acc_train = test(log_like, log_prob, x_train_b, y_train) \n",
    "    acc_valid = test(log_like, log_prob, x_valid_b, y_valid)\n",
    "    print(\"Using max_df = {:.2f}, train_acc = {:.4f}, valid_acc = {:.4f}\".format(max_df, acc_train, acc_valid))"
   ]
  },
  {
   "cell_type": "markdown",
   "id": "varied-voice",
   "metadata": {},
   "source": [
    "De estas pruebas podemos obtener que los mejores resultados se obtuvieron con max_df = 0.11y min_df = 1.\n",
    "Entrenamos una vez mas el modelo con estos parametros definidos"
   ]
  },
  {
   "cell_type": "code",
   "execution_count": 24,
   "id": "interior-exemption",
   "metadata": {},
   "outputs": [
    {
     "name": "stdout",
     "output_type": "stream",
     "text": [
      "El largo del vocabulario es: 42927\n"
     ]
    }
   ],
   "source": [
    "final_c_vector, x_train_d = vectorizer(x_train_p, CountVectorizer, 0.11, 1)\n",
    "x_valid_d = final_c_vector.transform(x_valid_p)\n",
    "# Entreno y guardo para probar despues\n",
    "log_like_1, log_prob_1 = train(x_train_d, y_train, 0.07)"
   ]
  },
  {
   "cell_type": "markdown",
   "id": "hired-plymouth",
   "metadata": {},
   "source": [
    "Otra posibilidad para mejorar el modelo es utilizar tf-idf vectorizer, que ademas de calcular la frecuencia de cada palbra, la multiplica por la inversa del document frequency de la pablabra: \n",
    "$$ tf-idf(palabra, doc) = tf(palabra, doc) \\cdot  log \\left[\\frac{ n }{ df(palabra)} \\right] $$"
   ]
  },
  {
   "cell_type": "code",
   "execution_count": 25,
   "id": "fifty-pharmacology",
   "metadata": {},
   "outputs": [
    {
     "name": "stdout",
     "output_type": "stream",
     "text": [
      "El largo del vocabulario es: 42927\n",
      "Using Tf-Idf, train_acc = 0.9751, valid_acc = 0.8635\n"
     ]
    }
   ],
   "source": [
    "tfidf_vector, x_train_idf = vectorizer(x_train_p, TfidfVectorizer, 0.11, 1)\n",
    "x_valid_idf = tfidf_vector.transform(x_valid_p)\n",
    "log_like_tfidf, log_prob_tfidf = train(x_train_idf, y_train, 0.07)\n",
    "\n",
    "acc_train = test(log_like_tfidf, log_prob_tfidf, x_train_idf, y_train) \n",
    "acc_valid = test(log_like_tfidf, log_prob_tfidf, x_valid_idf, y_valid)\n",
    "print(\"Using Tf-Idf, train_acc = {:.4f}, valid_acc = {:.4f}\".format(acc_train, acc_valid))"
   ]
  },
  {
   "cell_type": "markdown",
   "id": "5f1e2924-1785-4d80-bb64-1a15dd3260bf",
   "metadata": {},
   "source": [
    "Ahora se prueban distintas combinanciones de proceamiento del texto original"
   ]
  },
  {
   "cell_type": "code",
   "execution_count": 26,
   "id": "former-liverpool",
   "metadata": {},
   "outputs": [
    {
     "name": "stdout",
     "output_type": "stream",
     "text": [
      "Tokenize ready\n",
      "Stop remove ready\n",
      "Finished\n",
      "Tokenize ready\n",
      "Stop remove ready\n",
      "Finished\n",
      "El largo del vocabulario es: 59111\n",
      "Using Tf-idf + only remove stopwords, train_acc = 0.9831, valid_acc = 0.8670\n"
     ]
    }
   ],
   "source": [
    "x_train_stop = treat_data(x_train, lemm=False, stem=False, stop=True)\n",
    "x_valid_stop = treat_data(x_valid, lemm=False, stem=False, stop=True)\n",
    "\n",
    "stop_vector, x_train_stop_p = vectorizer(x_train_stop, TfidfVectorizer, 0.11, 1)\n",
    "x_valid_stop_p = stop_vector.transform(x_valid_stop)\n",
    "\n",
    "log_like_stop, log_prob_stop = train(x_train_stop_p, y_train, 0.07)\n",
    "\n",
    "acc_train = test(log_like_stop, log_prob_stop, x_train_stop_p, y_train) \n",
    "acc_valid = test(log_like_stop, log_prob_stop, x_valid_stop_p, y_valid)\n",
    "print(\"Using Tf-idf + only remove stopwords, train_acc = {:.4f}, valid_acc = {:.4f}\".format(acc_train, acc_valid))"
   ]
  },
  {
   "cell_type": "code",
   "execution_count": 27,
   "id": "contemporary-following",
   "metadata": {},
   "outputs": [
    {
     "name": "stdout",
     "output_type": "stream",
     "text": [
      "Tokenize ready\n",
      "Lammatize ready\n",
      "Stop remove ready\n",
      "Finished\n",
      "Tokenize ready\n",
      "Lammatize ready\n",
      "Stop remove ready\n",
      "Finished\n",
      "El largo del vocabulario es: 56084\n",
      "Using Tf-idf + only remove stopwords, train_acc = 0.9818, valid_acc = 0.8643\n"
     ]
    }
   ],
   "source": [
    "x_train_lemm = treat_data(x_train, lemm=True, stem=False, stop=True)\n",
    "x_valid_lemm = treat_data(x_valid, lemm=True, stem=False, stop=True)\n",
    "\n",
    "lemm_vector, x_train_lemm_p = vectorizer(x_train_lemm, TfidfVectorizer, 0.11, 1)\n",
    "x_valid_lemm_p = lemm_vector.transform(x_valid_lemm)\n",
    "\n",
    "log_like_lemm, log_prob_lemm = train(x_train_lemm_p, y_train, 0.07)\n",
    "\n",
    "acc_train = test(log_like_lemm, log_prob_lemm, x_train_lemm_p, y_train) \n",
    "acc_valid = test(log_like_lemm, log_prob_lemm, x_valid_lemm_p, y_valid)\n",
    "print(\"Using Tf-idf + only remove stopwords, train_acc = {:.4f}, valid_acc = {:.4f}\".format(acc_train, acc_valid))"
   ]
  },
  {
   "cell_type": "markdown",
   "id": "abf51df9-25c7-4c8e-b951-4009be50ca24",
   "metadata": {},
   "source": [
    "## Ahora probamos los dos mejores modelos en test, para obstener una metrica final"
   ]
  },
  {
   "cell_type": "code",
   "execution_count": 28,
   "id": "e3c430c8-7e52-4414-81ab-cc3e237cdfe3",
   "metadata": {},
   "outputs": [
    {
     "name": "stdout",
     "output_type": "stream",
     "text": [
      "Tokenize ready\n",
      "Lammatize ready\n",
      "Stop remove ready\n",
      "Stemmed ready\n",
      "Finished\n",
      "Using Tf-Idf, TEST_acc = 0.7742\n"
     ]
    }
   ],
   "source": [
    "x_test_p = treat_data(x_test)\n",
    "x_test_idf = tfidf_vector.transform(x_test_p)\n",
    "acc_test = test(log_like_tfidf, log_prob_tfidf, x_test_idf, y_test)\n",
    "print(\"Using Tf-Idf, TEST_acc = {:.4f}\".format(acc_test))"
   ]
  },
  {
   "cell_type": "code",
   "execution_count": 29,
   "id": "45495cf9-92ec-4c9b-8e1a-6ec21ff99457",
   "metadata": {},
   "outputs": [
    {
     "name": "stdout",
     "output_type": "stream",
     "text": [
      "Tokenize ready\n",
      "Stop remove ready\n",
      "Finished\n",
      "Using Tf-idf + only remove stopwords, TEST_acc = 0.7801\n"
     ]
    }
   ],
   "source": [
    "x_test_stop = treat_data(x_test, lemm=False, stem=False, stop=True)\n",
    "x_test_stop_p = stop_vector.transform(x_test_stop)\n",
    "acc_test = test(log_like_stop, log_prob_stop, x_test_stop_p, y_test) \n",
    "print(\"Using Tf-idf + only remove stopwords, TEST_acc = {:.4f}\".format(acc_test))"
   ]
  },
  {
   "cell_type": "code",
   "execution_count": null,
   "id": "01d787a7-2f55-47e3-a059-29f69c2a1544",
   "metadata": {},
   "outputs": [],
   "source": []
  }
 ],
 "metadata": {
  "kernelspec": {
   "display_name": "Python 3",
   "language": "python",
   "name": "python3"
  },
  "language_info": {
   "codemirror_mode": {
    "name": "ipython",
    "version": 3
   },
   "file_extension": ".py",
   "mimetype": "text/x-python",
   "name": "python",
   "nbconvert_exporter": "python",
   "pygments_lexer": "ipython3",
   "version": "3.8.8"
  }
 },
 "nbformat": 4,
 "nbformat_minor": 5
}
